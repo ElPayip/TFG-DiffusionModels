{
 "cells": [
  {
   "cell_type": "code",
   "execution_count": null,
   "metadata": {},
   "outputs": [],
   "source": [
    "import numpy as np\n",
    "import torch\n",
    "from torch.utils.data import random_split\n",
    "import matplotlib.pyplot as plt\n",
    "from model.unet import Unet\n",
    "from model.diffusion import Diffusion_Models\n",
    "from model.dataset import SpritesDataset\n",
    "from train import train\n",
    "\n",
    "# training hyperparameters\n",
    "BATCH_SIZE = 128\n",
    "EPOCHS = 100\n",
    "LR = 1e-3\n",
    "# network hyperparameters\n",
    "DEVICE = torch.device(\"cuda:0\" if torch.cuda.is_available() else 'cpu')\n",
    "N_FEAT = 64 # 64 hidden dimension feature\n",
    "N_CFEAT = 5 # label vector is of size 5\n",
    "HEIGHT = 16 # 16x16 image\n",
    "SAVE_DIR = './weights/'\n",
    "# diffusion hyperparameters\n",
    "TIMESTEPS = 500\n",
    "\n",
    "# DataSet path\n",
    "dataset_data_path = './sprites_1788_16x16.npy'\n",
    "dataset_label_path = './sprite_labels_nc_1788_16x16.npy'\n",
    "LABELS = ['hero', 'non-hero', 'food', 'spell', 'side-facing']"
   ]
  },
  {
   "cell_type": "markdown",
   "metadata": {},
   "source": [
    "## Entrenamiento"
   ]
  },
  {
   "cell_type": "code",
   "execution_count": null,
   "metadata": {},
   "outputs": [],
   "source": [
    "model = Unet(in_channels=3, n_feat=N_FEAT, n_cfeat=N_CFEAT, height=HEIGHT).to(DEVICE)\n",
    "#model.load_state_dict(torch.load(save_dir+\"model_100.pth\", map_location=device))\n",
    "optimizer = torch.optim.Adam(model.parameters(), lr=LR)\n",
    "df = Diffusion_Models(TIMESTEPS)\n",
    "\n",
    "dataset = SpritesDataset(dataset_data_path, dataset_label_path)\n",
    "generator1 = torch.Generator().manual_seed(42)\n",
    "train_dataset, validation_dataset = random_split(dataset, [79400,10000], generator=generator1)\n",
    "\n",
    "train(model, df, optimizer, train_dataset, validation_dataset, BATCH_SIZE, EPOCHS, DEVICE)"
   ]
  },
  {
   "cell_type": "markdown",
   "metadata": {},
   "source": [
    "## Generación"
   ]
  },
  {
   "cell_type": "code",
   "execution_count": null,
   "metadata": {},
   "outputs": [],
   "source": [
    "model = Unet(in_channels=3, n_feat=N_FEAT, n_cfeat=N_CFEAT, height=HEIGHT).to(DEVICE)\n",
    "model.load_state_dict(torch.load(SAVE_DIR+\"model_100.pth\", map_location=DEVICE))\n",
    "model.eval()\n",
    "\n",
    "def draw_samples(samples, ctx, filename, cols, labels):\n",
    "    samples = samples.to(\"cpu\")\n",
    "    rows = int(samples.shape[0] / cols)\n",
    "    if samples.shape[0]%cols!=0:\n",
    "        rows += 1\n",
    "    plt.figure(figsize=(10,rows*2))\n",
    "    for i, curr_imgs in enumerate(samples):\n",
    "        curr_img = df.unorm(curr_imgs)\n",
    "        plt.subplot(rows, cols, i + 1)\n",
    "        plt.axis('off')\n",
    "        plt.title(f\"{LABELS[np.argmax(labels[i])]}, time: {ctx[i]}\")\n",
    "        plt.imshow(curr_img.permute(1,2,0))\n",
    "    plt.savefig(f'./{filename}.png')\n",
    "    plt.close()"
   ]
  },
  {
   "cell_type": "code",
   "execution_count": null,
   "metadata": {},
   "outputs": [],
   "source": []
  }
 ],
 "metadata": {
  "language_info": {
   "name": "python"
  }
 },
 "nbformat": 4,
 "nbformat_minor": 2
}
