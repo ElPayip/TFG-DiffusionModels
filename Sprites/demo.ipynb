{
 "cells": [
  {
   "cell_type": "code",
   "execution_count": 1,
   "metadata": {},
   "outputs": [
    {
     "name": "stderr",
     "output_type": "stream",
     "text": [
      "c:\\Users\\david\\miniconda3\\envs\\PyTorch\\Lib\\site-packages\\tqdm\\auto.py:21: TqdmWarning: IProgress not found. Please update jupyter and ipywidgets. See https://ipywidgets.readthedocs.io/en/stable/user_install.html\n",
      "  from .autonotebook import tqdm as notebook_tqdm\n"
     ]
    }
   ],
   "source": [
    "import numpy as np\n",
    "import torch\n",
    "from torch.utils.data import random_split\n",
    "import matplotlib.pyplot as plt\n",
    "from model.unet import Unet\n",
    "from model.diffusion import Diffusion_Models\n",
    "from model.dataset import SpritesDataset\n",
    "from train import train\n",
    "\n",
    "# training hyperparameters\n",
    "BATCH_SIZE = 128\n",
    "EPOCHS = 100\n",
    "LR = 1e-3\n",
    "# network hyperparameters\n",
    "DEVICE = torch.device(\"cuda:0\" if torch.cuda.is_available() else 'cpu')\n",
    "N_FEAT = 64 # 64 hidden dimension feature\n",
    "N_CFEAT = 5 # label vector is of size 5\n",
    "HEIGHT = 16 # 16x16 image\n",
    "SAVE_DIR = './weights/'\n",
    "GEN_DIR = './generated_images/'\n",
    "# diffusion hyperparameters\n",
    "TIMESTEPS = 500\n",
    "\n",
    "# DataSet path\n",
    "dataset_data_path = './dataset/sprites_1788_16x16.npy'\n",
    "dataset_label_path = './dataset/sprite_labels_nc_1788_16x16.npy'\n",
    "LABELS = {'hero':       [1,0,0,0,0], \n",
    "          'non-hero':   [0,1,0,0,0], \n",
    "          'food':       [0,0,1,0,0], \n",
    "          'spell':      [0,0,0,1,0], \n",
    "          'side-facing':[0,0,0,0,1]}"
   ]
  },
  {
   "cell_type": "markdown",
   "metadata": {},
   "source": [
    "## Entrenamiento"
   ]
  },
  {
   "cell_type": "code",
   "execution_count": null,
   "metadata": {},
   "outputs": [],
   "source": [
    "model = Unet(in_channels=3, n_feat=N_FEAT, n_cfeat=N_CFEAT, height=HEIGHT).to(DEVICE)\n",
    "#model.load_state_dict(torch.load(SAVE_DIR+\"model_100.pth\", map_location=DEVICE))\n",
    "optimizer = torch.optim.Adam(model.parameters(), lr=LR)\n",
    "df = Diffusion_Models(TIMESTEPS)\n",
    "\n",
    "dataset = SpritesDataset(dataset_data_path, dataset_label_path)\n",
    "generator1 = torch.Generator().manual_seed(42)\n",
    "train_dataset, validation_dataset = random_split(dataset, [79400,10000], generator=generator1)\n",
    "\n",
    "train(model, df, optimizer, train_dataset, validation_dataset, BATCH_SIZE, EPOCHS, DEVICE)"
   ]
  },
  {
   "cell_type": "markdown",
   "metadata": {},
   "source": [
    "## Generación"
   ]
  },
  {
   "cell_type": "code",
   "execution_count": 15,
   "metadata": {},
   "outputs": [],
   "source": [
    "model = Unet(in_channels=3, n_feat=N_FEAT, n_cfeat=N_CFEAT, height=HEIGHT).to(DEVICE)\n",
    "model.load_state_dict(torch.load(SAVE_DIR+\"model_100.pth\", map_location=DEVICE))\n",
    "df = Diffusion_Models(TIMESTEPS)\n",
    "model.eval()\n",
    "\n",
    "def draw_samples(samples, ctx, filename, cols=2):\n",
    "    samples = samples.to(\"cpu\")\n",
    "    rows = samples.shape[0] // cols\n",
    "    if samples.shape[0]%cols!=0:\n",
    "        rows += 1\n",
    "    plt.figure(figsize=(cols*3,rows*3))\n",
    "    for i, curr_imgs in enumerate(samples):\n",
    "        curr_img = df.unorm(curr_imgs)\n",
    "        plt.subplot(rows, cols, i + 1)\n",
    "        plt.axis('off')\n",
    "        plt.title(list(LABELS.keys())[np.argmax(ctx[i])])\n",
    "        plt.imshow(curr_img.permute(1,2,0))\n",
    "    plt.savefig(GEN_DIR + f'{filename}.png')\n",
    "    plt.show()\n",
    "    plt.close()"
   ]
  },
  {
   "cell_type": "code",
   "execution_count": 17,
   "metadata": {},
   "outputs": [
    {
     "data": {
      "image/png": "[encoded data removed]",
      "text/plain": [
       "<Figure size 600x900 with 5 Axes>"
      ]
     },
     "metadata": {},
     "output_type": "display_data"
    }
   ],
   "source": [
    "model.eval()\n",
    "ctx = torch.tensor([\n",
    "    LABELS['hero'],\n",
    "    LABELS['non-hero'],\n",
    "    LABELS['food'],\n",
    "    LABELS['spell'],\n",
    "    LABELS['side-facing']\n",
    "]).float().to(DEVICE)\n",
    "\n",
    "samples = df.sample_ddpm_context(model, ctx.shape[0], ctx)\n",
    "draw_samples(samples,ctx.cpu(),\"All_Classes\")"
   ]
  }
 ],
 "metadata": {
  "kernelspec": {
   "display_name": "PyTorch",
   "language": "python",
   "name": "python3"
  },
  "language_info": {
   "codemirror_mode": {
    "name": "ipython",
    "version": 3
   },
   "file_extension": ".py",
   "mimetype": "text/x-python",
   "name": "python",
   "nbconvert_exporter": "python",
   "pygments_lexer": "ipython3",
   "version": "3.11.5"
  }
 },
 "nbformat": 4,
 "nbformat_minor": 2
}
